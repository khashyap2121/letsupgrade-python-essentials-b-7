{
 "cells": [
  {
   "cell_type": "markdown",
   "metadata": {},
   "source": [
    "#day 6 assignment"
   ]
  },
  {
   "cell_type": "code",
   "execution_count": 1,
   "metadata": {},
   "outputs": [],
   "source": [
    "class bank:\n",
    "    def __init__(self,ownername,balance):\n",
    "        self.ownername = ownername\n",
    "        self.balance = balance\n",
    "\n",
    "    def deposit(self,amount):\n",
    "        self.balance +=amount\n",
    "        print(\"your updated balance is :\", self.balance)\n",
    "        \n",
    "    def withdraw(self,amount):\n",
    "        if(self.balance>amount):\n",
    "            self.balance-=amount\n",
    "            print(\"your updated balance is :\", self.balance)\n",
    "        else:\n",
    "            print(\"you don't have enough cradit in your account, see you have only\",self.balance)"
   ]
  },
  {
   "cell_type": "code",
   "execution_count": 2,
   "metadata": {},
   "outputs": [],
   "source": [
    "khashyap=bank(\"khashyap21\",2000)"
   ]
  },
  {
   "cell_type": "code",
   "execution_count": 3,
   "metadata": {},
   "outputs": [
    {
     "name": "stdout",
     "output_type": "stream",
     "text": [
      "your updated balance is : 4000\n"
     ]
    }
   ],
   "source": [
    "khashyap.deposit(2000)"
   ]
  },
  {
   "cell_type": "code",
   "execution_count": 4,
   "metadata": {},
   "outputs": [
    {
     "name": "stdout",
     "output_type": "stream",
     "text": [
      "you don't have enough cradit in your account, see you have only 4000\n"
     ]
    }
   ],
   "source": [
    "khashyap.withdraw(4000)"
   ]
  },
  {
   "cell_type": "code",
   "execution_count": 5,
   "metadata": {},
   "outputs": [
    {
     "name": "stdout",
     "output_type": "stream",
     "text": [
      "your updated balance is : 1000\n"
     ]
    }
   ],
   "source": [
    "khashyap.withdraw(3000)"
   ]
  },
  {
   "cell_type": "markdown",
   "metadata": {},
   "source": [
    "# Question 2"
   ]
  },
  {
   "cell_type": "code",
   "execution_count": 6,
   "metadata": {},
   "outputs": [],
   "source": [
    "import math\n",
    "class cone:\n",
    "    def __init__(self,radius,height):\n",
    "        self.radius=radius\n",
    "        self.height=height\n",
    "        \n",
    "    def volume(self):\n",
    "        vol = math.pi * (self.radius**2) * (self.height/3)\n",
    "        print(\"Volume of this cone is : \",vol)\n",
    "        \n",
    "    def surfaceArea(self):\n",
    "        area = math.pi* self.radius *(self.radius+(math.sqrt((self.radius**2)+(self.height**2))))\n",
    "        print(\"Surface area of this cone is \",area)"
   ]
  },
  {
   "cell_type": "code",
   "execution_count": 7,
   "metadata": {},
   "outputs": [],
   "source": [
    "con = cone(3,4)"
   ]
  },
  {
   "cell_type": "code",
   "execution_count": 8,
   "metadata": {},
   "outputs": [
    {
     "name": "stdout",
     "output_type": "stream",
     "text": [
      "Volume of this cone is :  37.69911184307752\n"
     ]
    }
   ],
   "source": [
    "con.volume()"
   ]
  },
  {
   "cell_type": "code",
   "execution_count": 11,
   "metadata": {},
   "outputs": [
    {
     "name": "stdout",
     "output_type": "stream",
     "text": [
      "Surface area of this cone is  75.39822368615503\n"
     ]
    }
   ],
   "source": [
    "con.surfaceArea()"
   ]
  },
  {
   "cell_type": "code",
   "execution_count": null,
   "metadata": {},
   "outputs": [],
   "source": []
  }
 ],
 "metadata": {
  "kernelspec": {
   "display_name": "Python 3",
   "language": "python",
   "name": "python3"
  },
  "language_info": {
   "codemirror_mode": {
    "name": "ipython",
    "version": 3
   },
   "file_extension": ".py",
   "mimetype": "text/x-python",
   "name": "python",
   "nbconvert_exporter": "python",
   "pygments_lexer": "ipython3",
   "version": "3.8.3"
  }
 },
 "nbformat": 4,
 "nbformat_minor": 4
}
