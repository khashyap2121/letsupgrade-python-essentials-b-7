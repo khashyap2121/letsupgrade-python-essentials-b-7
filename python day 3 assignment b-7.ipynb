{
 "cells": [
  {
   "cell_type": "markdown",
   "metadata": {},
   "source": [
    "# Question no 1"
   ]
  },
  {
   "cell_type": "code",
   "execution_count": 2,
   "metadata": {},
   "outputs": [
    {
     "name": "stdout",
     "output_type": "stream",
     "text": [
      "enter height of pilot=1000\n",
      "safe to land\n",
      "land the plane\n"
     ]
    }
   ],
   "source": [
    "height=int(input(\"enter height of pilot=\"))\n",
    "if height<=1000:\n",
    "    print(\"safe to land\")\n",
    "    print(\"land the plane\")\n",
    "elif height>=1000 and height<=5000:\n",
    "    print(\"come down\")\n",
    "    print(\"to 1000 ft\")\n",
    "else:\n",
    "    print(\"turn around\")\n",
    "    print(\"turn plane around\")"
   ]
  },
  {
   "cell_type": "code",
   "execution_count": 3,
   "metadata": {},
   "outputs": [
    {
     "name": "stdout",
     "output_type": "stream",
     "text": [
      "enter height of pilot=2000\n",
      "come down\n",
      "to 1000 ft\n"
     ]
    }
   ],
   "source": [
    "height=int(input(\"enter height of pilot=\"))\n",
    "if height<=1000:\n",
    "    print(\"safe to land\")\n",
    "    print(\"land the plane\")\n",
    "elif height>=1000 and height<=5000:\n",
    "    print(\"come down\")\n",
    "    print(\"to 1000 ft\")\n",
    "else:\n",
    "    print(\"turn around\")\n",
    "    print(\"turn plane around\")"
   ]
  },
  {
   "cell_type": "code",
   "execution_count": 4,
   "metadata": {},
   "outputs": [
    {
     "name": "stdout",
     "output_type": "stream",
     "text": [
      "enter height of pilot=6000\n",
      "turn around\n",
      "turn plane around\n"
     ]
    }
   ],
   "source": [
    "height=int(input(\"enter height of pilot=\"))\n",
    "if height<=1000:\n",
    "    print(\"safe to land\")\n",
    "    print(\"land the plane\")\n",
    "elif height>=1000 and height<=5000:\n",
    "    print(\"come down\")\n",
    "    print(\"to 1000 ft\")\n",
    "else:\n",
    "    print(\"turn around\")\n",
    "    print(\"turn plane around\")"
   ]
  },
  {
   "cell_type": "markdown",
   "metadata": {},
   "source": [
    "# question no 2"
   ]
  },
  {
   "cell_type": "code",
   "execution_count": 5,
   "metadata": {},
   "outputs": [
    {
     "name": "stdout",
     "output_type": "stream",
     "text": [
      "2\n",
      "3\n",
      "5\n",
      "7\n",
      "11\n",
      "13\n",
      "17\n",
      "19\n",
      "23\n",
      "29\n",
      "31\n",
      "37\n",
      "41\n",
      "43\n",
      "47\n",
      "53\n",
      "59\n",
      "61\n",
      "67\n",
      "71\n",
      "73\n",
      "79\n",
      "83\n",
      "89\n",
      "97\n",
      "101\n",
      "103\n",
      "107\n",
      "109\n",
      "113\n",
      "127\n",
      "131\n",
      "137\n",
      "139\n",
      "149\n",
      "151\n",
      "157\n",
      "163\n",
      "167\n",
      "173\n",
      "179\n",
      "181\n",
      "191\n",
      "193\n",
      "197\n",
      "199\n"
     ]
    }
   ],
   "source": [
    "a=1\n",
    "b=200\n",
    "for num in range(1,201):\n",
    "    if num>1:\n",
    "        for i in range(2,num):\n",
    "            if(num%i)==0:\n",
    "                break\n",
    "        else:\n",
    "            print(num)"
   ]
  },
  {
   "cell_type": "code",
   "execution_count": null,
   "metadata": {},
   "outputs": [],
   "source": []
  }
 ],
 "metadata": {
  "kernelspec": {
   "display_name": "Python 3",
   "language": "python",
   "name": "python3"
  },
  "language_info": {
   "codemirror_mode": {
    "name": "ipython",
    "version": 3
   },
   "file_extension": ".py",
   "mimetype": "text/x-python",
   "name": "python",
   "nbconvert_exporter": "python",
   "pygments_lexer": "ipython3",
   "version": "3.8.3"
  }
 },
 "nbformat": 4,
 "nbformat_minor": 4
}
